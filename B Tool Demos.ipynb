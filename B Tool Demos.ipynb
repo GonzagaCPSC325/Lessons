{
 "cells": [
  {
   "cell_type": "markdown",
   "id": "1e7ee2f7-fda5-4b17-b301-56c6aca1df21",
   "metadata": {},
   "source": [
    "# [CPSC 325](https://github.com/GonzagaCPSC325) Data Science Project Lab\n",
    "[Gonzaga University](https://www.gonzaga.edu/)\n",
    "\n",
    "[Gina Sprint](http://cs.gonzaga.edu/faculty/sprint/)\n",
    "\n",
    "# Tool Demos\n",
    "What are our learning objectives for this lesson?\n",
    "* Follow along with some cloud data science demos\n",
    "\n",
    "Content used in this lesson is based upon information in the following sources:\n",
    "* Google Cloud Platform training courses"
   ]
  },
  {
   "cell_type": "markdown",
   "id": "e07ee931-a1c7-4ffb-99ef-4eba6e51100d",
   "metadata": {},
   "source": [
    "## Warm up Task(s)\n",
    "1. Go to https://www.allmysportsteamssuck.com/ncaa-division-i-football-and-basketball-twitter-hashtags-and-handles/ and inspect/view the page source\n",
    "    * In Chrome, right click -> Inspect or View Page Source\n",
    "1. Suppose we want to extract the Men's Basketball Team Twitter handles, what are the relevant tags do we need to find in the the HTML?\n",
    "\n",
    "## Today\n",
    "* Announcements\n",
    "    * Project pitch: IoT water flow with microcontroller, microphone, and pub/sub\n",
    "    * Research proposal is due Thursday night, let's go over it\n",
    "* Go over lambda function solutions\n",
    "* Project brainstorming lab speed dating!!\n",
    "* Webscraping\n",
    "* (if time) Intro to Twitter API\n",
    "* TODO before next class: please finish the last page of the project brainstorming lab"
   ]
  },
  {
   "cell_type": "markdown",
   "id": "fd4ccd91-c347-45dc-8a6c-58e601f58d54",
   "metadata": {},
   "source": [
    "## Webscraping\n",
    "We can scrape data we are interested in from web pages. While there are several libraries to help you do this, today we will use [Beautiful Soup](https://beautiful-soup-4.readthedocs.io/en/latest/):\n",
    "> Beautiful Soup is a Python library for pulling data out of HTML and XML files. It works with your favorite parser to provide idiomatic ways of navigating, searching, and modifying the parse tree. It commonly saves programmers hours or days of work.\n",
    "\n",
    "## Tasks\n",
    "1. Use Beautiful Soup to scrape the school names and handles from https://www.allmysportsteamssuck.com/ncaa-division-i-football-and-basketball-twitter-hashtags-and-handles/\n",
    "1. Store rankings in a Pandas DataFrame and write it to a CSV file\n",
    "\n",
    "## Twitter API\n",
    "We will use the [Twitter API](https://developer.twitter.com/en/docs/twitter-api) to get account information and tweets from basketball teams. For ease of use, we will take advantage of the [Tweepy](https://docs.tweepy.org/en/stable/) Python library to help us out. \n",
    "\n",
    "## Tasks\n",
    "1. Setup\n",
    "    1. Go to https://developer.twitter.com/ and sign up for the API\n",
    "        1. Make a project, an app, and generate a \"Bearer Token\" for authenticating with the app\n",
    "        1. Copy this token we will need it later\n",
    "    1. Install Tweepy with `pip install tweepy`\n",
    "1. Pick a Twitter handle you want to work with, or just use @Zag_MBB\n",
    "    1. We will use this Tweepy endpoint to get information about this account: https://docs.tweepy.org/en/stable/client.html#tweepy.Client.get_user\n",
    "        * We are mostly interested in the ID, since it is unique to the account and doesn't change like a handle (AKA username) can\n",
    "        * But there is so much infro you can grab!\n",
    "    1. We will use this Tweepy endpoint get tweets (and some metadata, again so much you can grab!) from this account: https://docs.tweepy.org/en/stable/client.html#tweepy.Client.get_users_tweets\n",
    "        * We will store the tweets in a Pandas DataFrame"
   ]
  }
 ],
 "metadata": {
  "kernelspec": {
   "display_name": "Python 3 (ipykernel)",
   "language": "python",
   "name": "python3"
  },
  "language_info": {
   "codemirror_mode": {
    "name": "ipython",
    "version": 3
   },
   "file_extension": ".py",
   "mimetype": "text/x-python",
   "name": "python",
   "nbconvert_exporter": "python",
   "pygments_lexer": "ipython3",
   "version": "3.9.7"
  }
 },
 "nbformat": 4,
 "nbformat_minor": 5
}
