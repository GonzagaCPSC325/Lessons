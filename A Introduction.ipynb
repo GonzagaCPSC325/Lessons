{
 "cells": [
  {
   "cell_type": "markdown",
   "id": "1e7ee2f7-fda5-4b17-b301-56c6aca1df21",
   "metadata": {},
   "source": [
    "# [CPSC 325](https://github.com/GonzagaCPSC325) Data Science Project Lab\n",
    "[Gonzaga University](https://www.gonzaga.edu/)\n",
    "\n",
    "[Gina Sprint](http://cs.gonzaga.edu/faculty/sprint/)\n",
    "\n",
    "# Introduction\n",
    "What are our learning objectives for this lesson?\n",
    "* Understand the format of the course\n",
    "* Practice with lambda functions and map, filter, reduce\n",
    "\n",
    "Content used in this lesson is based upon information in the following sources:\n",
    "* None"
   ]
  },
  {
   "attachments": {},
   "cell_type": "markdown",
   "id": "e07ee931-a1c7-4ffb-99ef-4eba6e51100d",
   "metadata": {},
   "source": [
    "## Warm up Task(s)\n",
    "* Welcome to class, I’m really glad you are all here for the inaugural offering of this CPSC 325 Data Science Project Lab!!\n",
    "* Check in with your neighbor and see how their spring semester is looking so far 🙂\n",
    "* Make sure you can access the CPSC 325 course in Canvas: canvas.gonzaga.edu\n",
    "* Open your favorite Python environment\n",
    "    * Check out the notes on lambda functions below\n",
    "    * https://github.com/GonzagaCPSC325/Lessons\n",
    "\n",
    "## Today\n",
    "* Announcements\n",
    "    * Class is being Zoom recorded\n",
    "    * Quick stories about my winter break\n",
    "* Course overview (syllabus and project overview)\n",
    "* BREAK\n",
    "* Demo of a (halfway complete) example of a project!!\n",
    "    * Plus mention an IoT project about water consumption\n",
    "* Practice with lambda functions!!\n",
    "* TODO before next class: Please complete the first two pages (problems #1-3) of the project brainstorming lab"
   ]
  },
  {
   "cell_type": "markdown",
   "id": "880cbc4f-4a02-4a52-b7c7-433b42e3d313",
   "metadata": {},
   "source": [
    "## Lambda Functions\n",
    "* A function is an object in Python, this means you can use a function like a reference"
   ]
  },
  {
   "cell_type": "code",
   "execution_count": 1,
   "id": "fe58aaef-e723-4ed6-af5d-dc3c89848317",
   "metadata": {},
   "outputs": [
    {
     "name": "stdout",
     "output_type": "stream",
     "text": [
      "<class 'function'> <class 'function'> True\n",
      "10\n"
     ]
    }
   ],
   "source": [
    "def mydouble(x):\n",
    "    return 2 * x\n",
    "\n",
    "myfunc = mydouble\n",
    "print(type(mydouble), type(myfunc), mydouble == myfunc)\n",
    "print(myfunc(5))"
   ]
  },
  {
   "cell_type": "markdown",
   "id": "c5605214-f21a-4501-b736-001334aeb697",
   "metadata": {},
   "source": [
    "* A lambda function is a function that has no name (hence, an anonymous/nameless function) that you can pass around in your code to be executed at a later time\n",
    "    * Lambda functions are single line statements that typically return some value, e.g. `lambda x: x + 1`\n",
    "    * They are often used for performing short operations/data manipulations\n",
    "    * Lambda functions start with the keyword lambda and then we specify our parameter list and a :  to separate the \"header\" from the body\n",
    "    * Example:"
   ]
  },
  {
   "cell_type": "code",
   "execution_count": 2,
   "id": "00e9622c-9519-4f3c-b8c2-668bfd2af469",
   "metadata": {},
   "outputs": [
    {
     "name": "stdout",
     "output_type": "stream",
     "text": [
      "saying: hello\n",
      "from lambda: hello\n"
     ]
    }
   ],
   "source": [
    "def say(message):\n",
    "    print(\"saying:\", message)\n",
    "\n",
    "# define another function that can execute any one string argument and void function it is passed\n",
    "def executeVoidFunction(f):\n",
    "    f(\"hello\")  # execute f\n",
    "    \n",
    "# call executeVoidFunction() passing in sayHello\n",
    "executeVoidFunction(say)\n",
    "# call executeVoidFunction() passing in a lambda function\n",
    "executeVoidFunction(lambda x: print(\"from lambda:\", x))"
   ]
  },
  {
   "attachments": {},
   "cell_type": "markdown",
   "id": "4f94d1cd-189f-42f4-94f8-4317767d5fa3",
   "metadata": {},
   "source": [
    "## Map, Filter, Reduce\n",
    "* Lambda functions are often used with map, filter, reduce functionality, which are common data operations on lists\n",
    "* Try converting the code below to use lambda functions in map, filter, and reduce calls"
   ]
  },
  {
   "cell_type": "code",
   "execution_count": 7,
   "id": "84a9bfa4-5167-4db4-b589-5567fb854b7e",
   "metadata": {},
   "outputs": [
    {
     "name": "stdout",
     "output_type": "stream",
     "text": [
      "orig list: [3, 4, 5]\n",
      "map double to each elem: [6, 8, 10]\n",
      "filter each elem by odd: [3, 5]\n",
      "reduce elems to total value: 12\n"
     ]
    }
   ],
   "source": [
    "nums = [3, 4, 5]\n",
    "print(\"orig list:\", nums)\n",
    "# map a function to each elem in a list\n",
    "nums2 = map(lambda x: 2 * x, nums)\n",
    "print(\"map double to each elem:\", list(nums2))\n",
    "\n",
    "# filter elems in a list by some criteria\n",
    "def odd(x):\n",
    "    return x % 2 == 1\n",
    "nums3 = filter(lambda x: x % 2 == 1, nums)\n",
    "print(\"filter each elem by odd:\", list(nums3))\n",
    "\n",
    "# reduce elems in a list to a single value\n",
    "from functools import reduce\n",
    "def total(total_so_far, x):\n",
    "    return total_so_far + x\n",
    "result = reduce(lambda total_so_far, x: total_so_far + x, nums)\n",
    "print(\"reduce elems to total value:\", result)"
   ]
  },
  {
   "attachments": {},
   "cell_type": "markdown",
   "id": "be469e5a-adda-47f4-ad4e-ceb79d2338c1",
   "metadata": {},
   "source": [
    "### Practice Problems\n",
    "```python\n",
    "nums = [1, 2, 3, 4, 5]\n",
    "sentence = [\"the\", \"quick\", \"brown\", \"fox\", \"jumps\", \"over\", \"the\", \"lazy\", \"dog\"]\n",
    "```\n",
    "1. Use a lambda function to create a new list of nums converted to floats\n",
    "1. Use a lambda function to create a new list of only the even integers in nums\n",
    "1. Use a lambda function to compute the product of the integers in nums\n",
    "1. Use a lambda function to create a list of only the words containing the letter “o”\n",
    "1. Use a lambda function to create a list of the words in all caps\n",
    "1. Use a lambda function to create a string containing only the first letters of each word\n",
    "1. Read the documentation for the built-in function [sorted(key)](https://docs.python.org/3/library/functions.html#sorted). Use a lambda function to create a list of the words sorted from shortest word to longest word\n"
   ]
  }
 ],
 "metadata": {
  "kernelspec": {
   "display_name": "Python 3 (ipykernel)",
   "language": "python",
   "name": "python3"
  },
  "language_info": {
   "codemirror_mode": {
    "name": "ipython",
    "version": 3
   },
   "file_extension": ".py",
   "mimetype": "text/x-python",
   "name": "python",
   "nbconvert_exporter": "python",
   "pygments_lexer": "ipython3",
   "version": "3.9.7"
  }
 },
 "nbformat": 4,
 "nbformat_minor": 5
}
