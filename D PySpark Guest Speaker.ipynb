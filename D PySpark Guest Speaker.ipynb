{
 "cells": [
  {
   "cell_type": "markdown",
   "id": "1e7ee2f7-fda5-4b17-b301-56c6aca1df21",
   "metadata": {},
   "source": [
    "# [CPSC 325](https://github.com/GonzagaCPSC325) Data Science Project Lab\n",
    "[Gonzaga University](https://www.gonzaga.edu/)\n",
    "\n",
    "[Gina Sprint](http://cs.gonzaga.edu/faculty/sprint/)\n",
    "\n",
    "# PySpark Guest Speaker\n",
    "What are our learning objectives for this lesson?\n",
    "* Learn about PySpark from our awesome guest speaker!!\n",
    "\n",
    "Content used in this lesson is based upon information in the following sources:\n",
    "* None"
   ]
  },
  {
   "cell_type": "markdown",
   "id": "70d3e52c-2530-4eb9-ace4-e1bc2122b7e4",
   "metadata": {},
   "source": [
    "## Pre-work\n",
    "1. Download any 2 of books (in plain text) from https://www.gutenberg.org\n",
    "1. `pip install pyspark`\n",
    "\n",
    "## Warm up Task(s)\n",
    "1. TBA\n",
    "\n",
    "## Today\n",
    "* Announcements\n",
    "    * Great presentations so far!!\n",
    "    * Don't forget to update your progress log"
   ]
  }
 ],
 "metadata": {
  "kernelspec": {
   "display_name": "Python 3 (ipykernel)",
   "language": "python",
   "name": "python3"
  },
  "language_info": {
   "codemirror_mode": {
    "name": "ipython",
    "version": 3
   },
   "file_extension": ".py",
   "mimetype": "text/x-python",
   "name": "python",
   "nbconvert_exporter": "python",
   "pygments_lexer": "ipython3",
   "version": "3.9.7"
  }
 },
 "nbformat": 4,
 "nbformat_minor": 5
}
